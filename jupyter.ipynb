{
 "cells": [
  {
   "cell_type": "markdown",
   "metadata": {},
   "source": [
    "### Here is The break down of all done in this project\n",
    "\n",
    "### 1-CRYPTO SUR Z26"
   ]
  },
  {
   "cell_type": "code",
   "execution_count": 8,
   "metadata": {},
   "outputs": [],
   "source": [
    "from math import gcd\n",
    "from numpy.linalg import inv, det\n",
    "import numpy as np\n",
    "from index import INDICE, MAX, gp, gp_inverse\n",
    "from index import INVERSE_MODULO\n",
    "\n",
    "Tab=[chr(i) for i in range(97)] + [chr(i) for i in range(123,256)]\n",
    "ALPHABET26=[chr(i) for i in range(97,123)]"
   ]
  },
  {
   "cell_type": "markdown",
   "metadata": {},
   "source": [
    "##### A-Fonctions Preliminaires"
   ]
  },
  {
   "cell_type": "code",
   "execution_count": 9,
   "metadata": {},
   "outputs": [],
   "source": [
    "def FILTRER(message):\n",
    "    for c in Tab:\n",
    "        msg=message.replace(c,\"\")\n",
    "        message=msg\n",
    "    return msg\n",
    "def GENERE_CLE(cle,N):\n",
    "    k=FILTRER(cle)\n",
    "    q=N//len(k)\n",
    "    r=N%len(k)\n",
    "    key=q*k\n",
    "    if r==0:\n",
    "        return key\n",
    "    else:\n",
    "        for i in range(r):\n",
    "            key+=k[i]\n",
    "\n",
    "        return key\n",
    "def RECOLLER(liste):\n",
    "    f = ''\n",
    "    try : #clause try\n",
    "        for i in range (len(liste[0])):\n",
    "            for z in liste: f += z[i]\n",
    "    except :#clause except\n",
    "        pass    \n",
    "    return f\n",
    "def DICO_GENERATEUR(keyword,pos):\n",
    "  key=\"\"\n",
    "  rest=\"\"\n",
    "  dic={\n",
    "\n",
    "  }\n",
    "  i=0\n",
    "  for c in keyword:\n",
    "    k=keyword[:i]\n",
    "    if(k.count(c)==0):\n",
    "      key+=c\n",
    "    i=i+1\n",
    "  for c in key:\n",
    "    dic[pos]=INDICE(ALPHABET26,c)\n",
    "    pos=(pos+1)%26\n",
    "  for c in ALPHABET26:\n",
    "    if(key.count(c)==0):\n",
    "      rest+=c\n",
    "  for c in rest:\n",
    "    dic[pos]=INDICE(ALPHABET26,c)\n",
    "    pos=(pos+1)%26\n",
    "\n",
    "  return dic"
   ]
  },
  {
   "cell_type": "markdown",
   "metadata": {},
   "source": [
    "##### B-Cesar"
   ]
  },
  {
   "cell_type": "code",
   "execution_count": 10,
   "metadata": {},
   "outputs": [],
   "source": [
    "def CHIFFRE_DE_CESAR(message,k):\n",
    "    chiffré=\"\"\n",
    "    msg=FILTRER(message)\n",
    "    for c in msg:\n",
    "        x=INDICE(ALPHABET26,c)\n",
    "        y=x+k\n",
    "        chiffré+=ALPHABET26[y%26]\n",
    "    return chiffré\n",
    "def DECHIFFREMENT_DE_CESAR(chiffré,k):\n",
    "    p=(26-k)%26\n",
    "    return CHIFFRE_DE_CESAR(chiffré,p)"
   ]
  },
  {
   "cell_type": "markdown",
   "metadata": {},
   "source": [
    "##### C-Decalage Affine"
   ]
  },
  {
   "cell_type": "code",
   "execution_count": null,
   "metadata": {},
   "outputs": [],
   "source": [
    "def DECALAGE_AFFINE(message,a,b):\n",
    "    chiffré=\"\"\n",
    "    msg=FILTRER(message)\n",
    "    for i in range(len(msg)):\n",
    "        x=INDICE(ALPHABET26,msg[i])\n",
    "        y=a*x+b\n",
    "        chiffré+=ALPHABET26[y%26]\n",
    "    return chiffré\n",
    "def DECHIFFREMENT_DE_DECALAGEAFFINE(chiffré,a,b):\n",
    "    a1=INVERSE_MODULO(a,26)\n",
    "    b1=0-a1*b\n",
    "    return DECALAGE_AFFINE(chiffré,a1,b1)"
   ]
  }
 ],
 "metadata": {
  "language_info": {
   "name": "python"
  },
  "orig_nbformat": 4
 },
 "nbformat": 4,
 "nbformat_minor": 2
}
